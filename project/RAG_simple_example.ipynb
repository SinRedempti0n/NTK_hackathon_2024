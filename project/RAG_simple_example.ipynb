{
  "cells": [
    {
      "cell_type": "code",
      "execution_count": 5,
      "id": "ZX--sgAOA-CU",
      "metadata": {
        "id": "ZX--sgAOA-CU"
      },
      "outputs": [
        {
          "name": "stdout",
          "output_type": "stream",
          "text": [
            "Requirement already satisfied: langchain in ./.venv/lib/python3.8/site-packages (0.1.12)\n",
            "Requirement already satisfied: faiss-cpu in ./.venv/lib/python3.8/site-packages (1.8.0)\n",
            "Requirement already satisfied: transformers in ./.venv/lib/python3.8/site-packages (4.38.2)\n",
            "Requirement already satisfied: sentence-transformers in ./.venv/lib/python3.8/site-packages (2.5.1)\n",
            "Requirement already satisfied: accelerate in ./.venv/lib/python3.8/site-packages (0.28.0)\n",
            "Requirement already satisfied: pandas in ./.venv/lib/python3.8/site-packages (2.0.3)\n",
            "Collecting ipywidgets\n",
            "  Downloading ipywidgets-8.1.2-py3-none-any.whl (139 kB)\n",
            "\u001b[2K     \u001b[90m━━━━━━━━━━━━━━━━━━━━━━━━━━━━━━━━━━━━━━━\u001b[0m \u001b[32m139.4/139.4 kB\u001b[0m \u001b[31m1.2 MB/s\u001b[0m eta \u001b[36m0:00:00\u001b[0ma \u001b[36m0:00:01\u001b[0m\n",
            "\u001b[?25hRequirement already satisfied: dataclasses-json<0.7,>=0.5.7 in ./.venv/lib/python3.8/site-packages (from langchain) (0.6.4)\n",
            "Requirement already satisfied: PyYAML>=5.3 in ./.venv/lib/python3.8/site-packages (from langchain) (6.0.1)\n",
            "Requirement already satisfied: requests<3,>=2 in ./.venv/lib/python3.8/site-packages (from langchain) (2.31.0)\n",
            "Requirement already satisfied: langchain-text-splitters<0.1,>=0.0.1 in ./.venv/lib/python3.8/site-packages (from langchain) (0.0.1)\n",
            "Requirement already satisfied: SQLAlchemy<3,>=1.4 in ./.venv/lib/python3.8/site-packages (from langchain) (2.0.28)\n",
            "Requirement already satisfied: langchain-core<0.2.0,>=0.1.31 in ./.venv/lib/python3.8/site-packages (from langchain) (0.1.32)\n",
            "Requirement already satisfied: tenacity<9.0.0,>=8.1.0 in ./.venv/lib/python3.8/site-packages (from langchain) (8.2.3)\n",
            "Requirement already satisfied: jsonpatch<2.0,>=1.33 in ./.venv/lib/python3.8/site-packages (from langchain) (1.33)\n",
            "Requirement already satisfied: numpy<2,>=1 in ./.venv/lib/python3.8/site-packages (from langchain) (1.24.4)\n",
            "Requirement already satisfied: async-timeout<5.0.0,>=4.0.0 in ./.venv/lib/python3.8/site-packages (from langchain) (4.0.3)\n",
            "Requirement already satisfied: pydantic<3,>=1 in ./.venv/lib/python3.8/site-packages (from langchain) (2.6.4)\n",
            "Requirement already satisfied: langchain-community<0.1,>=0.0.28 in ./.venv/lib/python3.8/site-packages (from langchain) (0.0.28)\n",
            "Requirement already satisfied: aiohttp<4.0.0,>=3.8.3 in ./.venv/lib/python3.8/site-packages (from langchain) (3.9.3)\n",
            "Requirement already satisfied: langsmith<0.2.0,>=0.1.17 in ./.venv/lib/python3.8/site-packages (from langchain) (0.1.26)\n",
            "Requirement already satisfied: regex!=2019.12.17 in ./.venv/lib/python3.8/site-packages (from transformers) (2023.12.25)\n",
            "Requirement already satisfied: packaging>=20.0 in ./.venv/lib/python3.8/site-packages (from transformers) (23.2)\n",
            "Requirement already satisfied: tokenizers<0.19,>=0.14 in ./.venv/lib/python3.8/site-packages (from transformers) (0.15.2)\n",
            "Requirement already satisfied: safetensors>=0.4.1 in ./.venv/lib/python3.8/site-packages (from transformers) (0.4.2)\n",
            "Requirement already satisfied: filelock in ./.venv/lib/python3.8/site-packages (from transformers) (3.13.1)\n",
            "Requirement already satisfied: huggingface-hub<1.0,>=0.19.3 in ./.venv/lib/python3.8/site-packages (from transformers) (0.21.4)\n",
            "Requirement already satisfied: tqdm>=4.27 in ./.venv/lib/python3.8/site-packages (from transformers) (4.66.2)\n",
            "Requirement already satisfied: Pillow in ./.venv/lib/python3.8/site-packages (from sentence-transformers) (10.2.0)\n",
            "Requirement already satisfied: scikit-learn in ./.venv/lib/python3.8/site-packages (from sentence-transformers) (1.3.2)\n",
            "Requirement already satisfied: scipy in ./.venv/lib/python3.8/site-packages (from sentence-transformers) (1.10.1)\n",
            "Requirement already satisfied: torch>=1.11.0 in ./.venv/lib/python3.8/site-packages (from sentence-transformers) (2.2.1)\n",
            "Requirement already satisfied: psutil in ./.venv/lib/python3.8/site-packages (from accelerate) (5.9.8)\n",
            "Requirement already satisfied: pytz>=2020.1 in ./.venv/lib/python3.8/site-packages (from pandas) (2024.1)\n",
            "Requirement already satisfied: tzdata>=2022.1 in ./.venv/lib/python3.8/site-packages (from pandas) (2024.1)\n",
            "Requirement already satisfied: python-dateutil>=2.8.2 in ./.venv/lib/python3.8/site-packages (from pandas) (2.9.0.post0)\n",
            "Collecting jupyterlab-widgets~=3.0.10\n",
            "  Downloading jupyterlab_widgets-3.0.10-py3-none-any.whl (215 kB)\n",
            "\u001b[2K     \u001b[90m━━━━━━━━━━━━━━━━━━━━━━━━━━━━━━━━━━━━━━━\u001b[0m \u001b[32m215.0/215.0 kB\u001b[0m \u001b[31m3.7 MB/s\u001b[0m eta \u001b[36m0:00:00\u001b[0ma \u001b[36m0:00:01\u001b[0m\n",
            "\u001b[?25hCollecting widgetsnbextension~=4.0.10\n",
            "  Downloading widgetsnbextension-4.0.10-py3-none-any.whl (2.3 MB)\n",
            "\u001b[2K     \u001b[90m━━━━━━━━━━━━━━━━━━━━━━━━━━━━━━━━━━━━━━━━\u001b[0m \u001b[32m2.3/2.3 MB\u001b[0m \u001b[31m13.2 MB/s\u001b[0m eta \u001b[36m0:00:00\u001b[0m00:01\u001b[0m00:01\u001b[0m\n",
            "\u001b[?25hRequirement already satisfied: ipython>=6.1.0 in ./.venv/lib/python3.8/site-packages (from ipywidgets) (8.12.3)\n",
            "Requirement already satisfied: comm>=0.1.3 in ./.venv/lib/python3.8/site-packages (from ipywidgets) (0.2.2)\n",
            "Requirement already satisfied: traitlets>=4.3.1 in ./.venv/lib/python3.8/site-packages (from ipywidgets) (5.14.2)\n",
            "Requirement already satisfied: multidict<7.0,>=4.5 in ./.venv/lib/python3.8/site-packages (from aiohttp<4.0.0,>=3.8.3->langchain) (6.0.5)\n",
            "Requirement already satisfied: yarl<2.0,>=1.0 in ./.venv/lib/python3.8/site-packages (from aiohttp<4.0.0,>=3.8.3->langchain) (1.9.4)\n",
            "Requirement already satisfied: frozenlist>=1.1.1 in ./.venv/lib/python3.8/site-packages (from aiohttp<4.0.0,>=3.8.3->langchain) (1.4.1)\n",
            "Requirement already satisfied: aiosignal>=1.1.2 in ./.venv/lib/python3.8/site-packages (from aiohttp<4.0.0,>=3.8.3->langchain) (1.3.1)\n",
            "Requirement already satisfied: attrs>=17.3.0 in ./.venv/lib/python3.8/site-packages (from aiohttp<4.0.0,>=3.8.3->langchain) (23.2.0)\n",
            "Requirement already satisfied: marshmallow<4.0.0,>=3.18.0 in ./.venv/lib/python3.8/site-packages (from dataclasses-json<0.7,>=0.5.7->langchain) (3.21.1)\n",
            "Requirement already satisfied: typing-inspect<1,>=0.4.0 in ./.venv/lib/python3.8/site-packages (from dataclasses-json<0.7,>=0.5.7->langchain) (0.9.0)\n",
            "Requirement already satisfied: typing-extensions>=3.7.4.3 in ./.venv/lib/python3.8/site-packages (from huggingface-hub<1.0,>=0.19.3->transformers) (4.10.0)\n",
            "Requirement already satisfied: fsspec>=2023.5.0 in ./.venv/lib/python3.8/site-packages (from huggingface-hub<1.0,>=0.19.3->transformers) (2024.2.0)\n",
            "Requirement already satisfied: pickleshare in ./.venv/lib/python3.8/site-packages (from ipython>=6.1.0->ipywidgets) (0.7.5)\n",
            "Requirement already satisfied: matplotlib-inline in ./.venv/lib/python3.8/site-packages (from ipython>=6.1.0->ipywidgets) (0.1.6)\n",
            "Requirement already satisfied: pexpect>4.3 in ./.venv/lib/python3.8/site-packages (from ipython>=6.1.0->ipywidgets) (4.9.0)\n",
            "Requirement already satisfied: prompt-toolkit!=3.0.37,<3.1.0,>=3.0.30 in ./.venv/lib/python3.8/site-packages (from ipython>=6.1.0->ipywidgets) (3.0.43)\n",
            "Requirement already satisfied: jedi>=0.16 in ./.venv/lib/python3.8/site-packages (from ipython>=6.1.0->ipywidgets) (0.19.1)\n",
            "Requirement already satisfied: decorator in ./.venv/lib/python3.8/site-packages (from ipython>=6.1.0->ipywidgets) (5.1.1)\n",
            "Requirement already satisfied: pygments>=2.4.0 in ./.venv/lib/python3.8/site-packages (from ipython>=6.1.0->ipywidgets) (2.17.2)\n",
            "Requirement already satisfied: backcall in ./.venv/lib/python3.8/site-packages (from ipython>=6.1.0->ipywidgets) (0.2.0)\n",
            "Requirement already satisfied: stack-data in ./.venv/lib/python3.8/site-packages (from ipython>=6.1.0->ipywidgets) (0.6.3)\n",
            "Requirement already satisfied: jsonpointer>=1.9 in ./.venv/lib/python3.8/site-packages (from jsonpatch<2.0,>=1.33->langchain) (2.4)\n",
            "Requirement already satisfied: anyio<5,>=3 in ./.venv/lib/python3.8/site-packages (from langchain-core<0.2.0,>=0.1.31->langchain) (4.3.0)\n",
            "Requirement already satisfied: orjson<4.0.0,>=3.9.14 in ./.venv/lib/python3.8/site-packages (from langsmith<0.2.0,>=0.1.17->langchain) (3.9.15)\n",
            "Requirement already satisfied: pydantic-core==2.16.3 in ./.venv/lib/python3.8/site-packages (from pydantic<3,>=1->langchain) (2.16.3)\n",
            "Requirement already satisfied: annotated-types>=0.4.0 in ./.venv/lib/python3.8/site-packages (from pydantic<3,>=1->langchain) (0.6.0)\n",
            "Requirement already satisfied: six>=1.5 in ./.venv/lib/python3.8/site-packages (from python-dateutil>=2.8.2->pandas) (1.16.0)\n",
            "Requirement already satisfied: certifi>=2017.4.17 in ./.venv/lib/python3.8/site-packages (from requests<3,>=2->langchain) (2024.2.2)\n",
            "Requirement already satisfied: charset-normalizer<4,>=2 in ./.venv/lib/python3.8/site-packages (from requests<3,>=2->langchain) (3.3.2)\n",
            "Requirement already satisfied: urllib3<3,>=1.21.1 in ./.venv/lib/python3.8/site-packages (from requests<3,>=2->langchain) (2.2.1)\n",
            "Requirement already satisfied: idna<4,>=2.5 in ./.venv/lib/python3.8/site-packages (from requests<3,>=2->langchain) (3.6)\n",
            "Requirement already satisfied: greenlet!=0.4.17 in ./.venv/lib/python3.8/site-packages (from SQLAlchemy<3,>=1.4->langchain) (3.0.3)\n",
            "Requirement already satisfied: nvidia-nccl-cu12==2.19.3 in ./.venv/lib/python3.8/site-packages (from torch>=1.11.0->sentence-transformers) (2.19.3)\n",
            "Requirement already satisfied: nvidia-nvtx-cu12==12.1.105 in ./.venv/lib/python3.8/site-packages (from torch>=1.11.0->sentence-transformers) (12.1.105)\n",
            "Requirement already satisfied: sympy in ./.venv/lib/python3.8/site-packages (from torch>=1.11.0->sentence-transformers) (1.12)\n",
            "Requirement already satisfied: nvidia-cufft-cu12==11.0.2.54 in ./.venv/lib/python3.8/site-packages (from torch>=1.11.0->sentence-transformers) (11.0.2.54)\n",
            "Requirement already satisfied: nvidia-cublas-cu12==12.1.3.1 in ./.venv/lib/python3.8/site-packages (from torch>=1.11.0->sentence-transformers) (12.1.3.1)\n",
            "Requirement already satisfied: networkx in ./.venv/lib/python3.8/site-packages (from torch>=1.11.0->sentence-transformers) (3.1)\n",
            "Requirement already satisfied: jinja2 in ./.venv/lib/python3.8/site-packages (from torch>=1.11.0->sentence-transformers) (3.1.3)\n",
            "Requirement already satisfied: nvidia-cuda-cupti-cu12==12.1.105 in ./.venv/lib/python3.8/site-packages (from torch>=1.11.0->sentence-transformers) (12.1.105)\n",
            "Requirement already satisfied: nvidia-cusparse-cu12==12.1.0.106 in ./.venv/lib/python3.8/site-packages (from torch>=1.11.0->sentence-transformers) (12.1.0.106)\n",
            "Requirement already satisfied: nvidia-cusolver-cu12==11.4.5.107 in ./.venv/lib/python3.8/site-packages (from torch>=1.11.0->sentence-transformers) (11.4.5.107)\n",
            "Requirement already satisfied: nvidia-curand-cu12==10.3.2.106 in ./.venv/lib/python3.8/site-packages (from torch>=1.11.0->sentence-transformers) (10.3.2.106)\n",
            "Requirement already satisfied: nvidia-cudnn-cu12==8.9.2.26 in ./.venv/lib/python3.8/site-packages (from torch>=1.11.0->sentence-transformers) (8.9.2.26)\n",
            "Requirement already satisfied: triton==2.2.0 in ./.venv/lib/python3.8/site-packages (from torch>=1.11.0->sentence-transformers) (2.2.0)\n",
            "Requirement already satisfied: nvidia-cuda-runtime-cu12==12.1.105 in ./.venv/lib/python3.8/site-packages (from torch>=1.11.0->sentence-transformers) (12.1.105)\n",
            "Requirement already satisfied: nvidia-cuda-nvrtc-cu12==12.1.105 in ./.venv/lib/python3.8/site-packages (from torch>=1.11.0->sentence-transformers) (12.1.105)\n",
            "Requirement already satisfied: nvidia-nvjitlink-cu12 in ./.venv/lib/python3.8/site-packages (from nvidia-cusolver-cu12==11.4.5.107->torch>=1.11.0->sentence-transformers) (12.4.99)\n",
            "Requirement already satisfied: joblib>=1.1.1 in ./.venv/lib/python3.8/site-packages (from scikit-learn->sentence-transformers) (1.3.2)\n",
            "Requirement already satisfied: threadpoolctl>=2.0.0 in ./.venv/lib/python3.8/site-packages (from scikit-learn->sentence-transformers) (3.3.0)\n",
            "Requirement already satisfied: sniffio>=1.1 in ./.venv/lib/python3.8/site-packages (from anyio<5,>=3->langchain-core<0.2.0,>=0.1.31->langchain) (1.3.1)\n",
            "Requirement already satisfied: exceptiongroup>=1.0.2 in ./.venv/lib/python3.8/site-packages (from anyio<5,>=3->langchain-core<0.2.0,>=0.1.31->langchain) (1.2.0)\n",
            "Requirement already satisfied: parso<0.9.0,>=0.8.3 in ./.venv/lib/python3.8/site-packages (from jedi>=0.16->ipython>=6.1.0->ipywidgets) (0.8.3)\n",
            "Requirement already satisfied: ptyprocess>=0.5 in ./.venv/lib/python3.8/site-packages (from pexpect>4.3->ipython>=6.1.0->ipywidgets) (0.7.0)\n",
            "Requirement already satisfied: wcwidth in ./.venv/lib/python3.8/site-packages (from prompt-toolkit!=3.0.37,<3.1.0,>=3.0.30->ipython>=6.1.0->ipywidgets) (0.2.13)\n",
            "Requirement already satisfied: mypy-extensions>=0.3.0 in ./.venv/lib/python3.8/site-packages (from typing-inspect<1,>=0.4.0->dataclasses-json<0.7,>=0.5.7->langchain) (1.0.0)\n",
            "Requirement already satisfied: MarkupSafe>=2.0 in ./.venv/lib/python3.8/site-packages (from jinja2->torch>=1.11.0->sentence-transformers) (2.1.5)\n",
            "Requirement already satisfied: executing>=1.2.0 in ./.venv/lib/python3.8/site-packages (from stack-data->ipython>=6.1.0->ipywidgets) (2.0.1)\n",
            "Requirement already satisfied: asttokens>=2.1.0 in ./.venv/lib/python3.8/site-packages (from stack-data->ipython>=6.1.0->ipywidgets) (2.4.1)\n",
            "Requirement already satisfied: pure-eval in ./.venv/lib/python3.8/site-packages (from stack-data->ipython>=6.1.0->ipywidgets) (0.2.2)\n",
            "Requirement already satisfied: mpmath>=0.19 in ./.venv/lib/python3.8/site-packages (from sympy->torch>=1.11.0->sentence-transformers) (1.3.0)\n",
            "Installing collected packages: widgetsnbextension, jupyterlab-widgets, ipywidgets\n",
            "Successfully installed ipywidgets-8.1.2 jupyterlab-widgets-3.0.10 widgetsnbextension-4.0.10\n",
            "\n",
            "\u001b[1m[\u001b[0m\u001b[34;49mnotice\u001b[0m\u001b[1;39;49m]\u001b[0m\u001b[39;49m A new release of pip is available: \u001b[0m\u001b[31;49m23.0.1\u001b[0m\u001b[39;49m -> \u001b[0m\u001b[32;49m24.0\u001b[0m\n",
            "\u001b[1m[\u001b[0m\u001b[34;49mnotice\u001b[0m\u001b[1;39;49m]\u001b[0m\u001b[39;49m To update, run: \u001b[0m\u001b[32;49mpip install --upgrade pip\u001b[0m\n"
          ]
        }
      ],
      "source": [
        "!pip install langchain faiss-cpu transformers sentence-transformers accelerate pandas ipywidgets"
      ]
    },
    {
      "cell_type": "code",
      "execution_count": 6,
      "id": "42972321-36a6-44d6-88e5-aa69af25528a",
      "metadata": {
        "id": "42972321-36a6-44d6-88e5-aa69af25528a"
      },
      "outputs": [],
      "source": [
        "import os\n",
        "from typing import Any, List, Mapping, Optional\n",
        "\n",
        "import langchain\n",
        "import langchain.document_loaders\n",
        "import pandas as pd\n",
        "import torch\n",
        "from langchain import HuggingFacePipeline, PromptTemplate, LLMChain, chains, prompts\n",
        "from langchain.document_loaders import DataFrameLoader\n",
        "from langchain.document_transformers import LongContextReorder\n",
        "from langchain.text_splitter import RecursiveCharacterTextSplitter\n",
        "from langchain.vectorstores import FAISS\n",
        "from langchain_community.document_loaders import TextLoader\n",
        "from langchain_community.embeddings import HuggingFaceEmbeddings\n",
        "from langchain_core.language_models.llms import LLM\n",
        "from transformers import AutoTokenizer, AutoModelForCausalLM, GenerationConfig, pipeline"
      ]
    },
    {
      "cell_type": "markdown",
      "id": "EF1q73PlIJ7N",
      "metadata": {
        "id": "EF1q73PlIJ7N"
      },
      "source": [
        "## Полезные ресурсы"
      ]
    },
    {
      "cell_type": "markdown",
      "id": "tOlwmmToIO6w",
      "metadata": {
        "id": "tOlwmmToIO6w"
      },
      "source": [
        "1. https://habr.com/ru/articles/779526/ - что вообще делаем\n",
        "2. https://habr.com/ru/articles/599673/ - что такое GPT, как работает. Вам особенно пригодится пункт с файнтьюнингом\n",
        "3. https://python.langchain.com/docs/get_started/introduction - основной фреймворк для создания RAG\n",
        "4. https://www.llamaindex.ai/ - тоже фреймворк с похожим функционалом, может пригодиться, если langchain не покроет потребности все\n",
        "5. https://huggingface.co/ - сайт с моделями"
      ]
    },
    {
      "cell_type": "markdown",
      "id": "3ad985d2-c32b-44c2-a0c2-937f5ff61825",
      "metadata": {
        "id": "3ad985d2-c32b-44c2-a0c2-937f5ff61825"
      },
      "source": [
        "### Загрузка документов"
      ]
    },
    {
      "cell_type": "markdown",
      "id": "woumKvcoEEUw",
      "metadata": {
        "id": "woumKvcoEEUw"
      },
      "source": [
        "В данной ячейке загружается база знаний. Сейчас тут текст, скопированный из википедии по астра линуксу. Тут могут быть документы в формате docx, pptx, pdf, pandas dataframe и так далее."
      ]
    },
    {
      "cell_type": "code",
      "execution_count": 10,
      "id": "15078e7c-e4cb-416d-8a29-c1d3d92e067f",
      "metadata": {
        "id": "15078e7c-e4cb-416d-8a29-c1d3d92e067f"
      },
      "outputs": [],
      "source": [
        "text = TextLoader(\"./content/astra_wiki.txt\")"
      ]
    },
    {
      "cell_type": "markdown",
      "id": "0d45d158-e765-4f7f-8bac-40c5e7db965c",
      "metadata": {
        "id": "0d45d158-e765-4f7f-8bac-40c5e7db965c"
      },
      "source": [
        "### Разбиваем документы на части"
      ]
    },
    {
      "cell_type": "code",
      "execution_count": 11,
      "id": "440266fc-1015-49dd-8314-0d951bae67a1",
      "metadata": {
        "id": "440266fc-1015-49dd-8314-0d951bae67a1"
      },
      "outputs": [
        {
          "data": {
            "text/plain": [
              "Document(page_content='Система работает с пакетами на базе .deb, используется пакетный менеджер apt. Astra Linux считается официально признанным деривативом Debian после прохождения необходимых проверок на соответствие требованиям Debian[9], АО «НПО РусБИТех» находится в партнёрских отношениях с The Linux Foundation[10] и The Document Foundation[11]. Разработчик заявляет, что «лицензионные соглашения на операционные системы Astra Linux разработаны в строгом соответствии с положениями действующих правовых документов Российской Федерации, а также международных правовых актов», при этом они «не противоречат духу и требованиям лицензии GPL».\\n\\nСобственный репозиторий Astra Linux состоит из более чем 20 000 пакетов. На пакетной базе этого репозитория развиваются и другие программные продукты компании[12]. В состав дистрибутива входят такие пакеты с открытым исходным кодом, как графическое окружение пользователя Fly, офисный пакет LibreOffice, доработанный в части управления доступом, серверные компоненты (web-сервер, СУБД и так далее), браузер Firefox, почтовый клиент Thunderbird, редактор растровой графики GIMP, проигрыватель мультимедиа VLC и другие[13].\\n\\nВ феврале 2018 г. объявлено, что Astra Linux была адаптирована для российских микропроцессоров «Эльбрус»[14].\\n\\nС 17 декабря 2019 года правообладателем, разработчиком и производителем является ООО «РусБИТех-Астра»[15], созданная в 2016 году как дочерняя компания АО «НПО РусБИТех», занимающаяся разработкой и сопровождением ОС. В 2019 году компания стала юридически самостоятельной, а в 2020 году на базе «Русбитех-Астра» была сформирована ГК «Астра».\\n\\nГрафический интерфейс\\nFly — собственная разработка создателей ОС, гибридное графическое окружение пользователя, которое включает в себя рабочий стол, написанный с использованием библиотеки xlib, а также набор графических утилит на Qt, разработанных в основном с использованием фреймворка KF5 и PyQt. Особенностью также является полная интеграция графической оболочки со всеми механизмами защиты информации, встроенными в операционную систему Astra Linux.\\n\\nПрименение\\nСистема применяется в ряде государственных учреждений в сферах обороны, здравоохранения, науки и образования, финансов, промышленности и торговли, ЖКХ[16]. В частности, на ней построена информационная система Национального центра управления обороной РФ[17]. В июле 2015 г. состоялись переговоры о переводе на Astra Linux госучреждений Республики Крым, в которой официальное использование популярных ОС затруднительно из-за антироссийских санкций[18]. В ноябре 2015 года подписано соглашение о сотрудничестве[19] с производителем серверов Huawei, который начал тестировать свои серверы на совместимость с Astra Linux[20]. В феврале 2019 года объявлено о внедрении Astra Linux на Тяньваньской АЭС (Китай, провинция Цзянсу)[21].\\n\\nС января 2019 года происходит тестирование Astra Linux в системах группы компаний «Газпром».\\n\\nС 2019 года производятся «защищённые»[22] планшетные компьютеры марки MIG с предустановленной Astra Linux, планируются продажи смартфонов[23].\\n\\nВ 2021 году началось внедрение системы в ОАО РЖД[24]. До конца 2024 года на Astra Linux планирует полностью перейти «Росатом» — всего на ОС будут работать около 130 тысяч пользователей.\\n\\nВ 2022 году ГК «Астра» сообщает об успешном переводе в Yandex Cloud собственных ключевых сервисов: «Центра загрузок» (репозитория с пакетами из состава операционной системы), «Справочного центра» и сервиса технической поддержки.[25]\\n\\nОсновные версии\\n Внешние видеофайлы\\n\\tЛоготип YouTube Универсальная операционная система Astra Linux\\n\\nAstra Linux Special Edition в Национальном центре управления обороной РФ\\nПроизводителем разрабатывается версия Astra Linux Special Edition (специального назначения) и несертифицированная версия Common Edition (общего назначения):\\n\\nCommon Edition — единственная российская ОС, репозиторий которой размещен в открытом доступе международной некоммерческой организации The Linux Foundation;\\nSpecial Edition — сертифицированная ОС со встроенными средствами защиты информации (СЗИ) для стабильных и безопасных ИТ-инфраструктур любого масштаба и бесперебойной работы с данными любой степени конфиденциальности, лицензируется по трем уровням защиты.\\n\\n\\nОсобенности версии Special Edition\\nРежимы защищенности\\nС релиза 2021 года (1.7/4.7) в Astra Linux Special Edition доступны режимы защищенности «Базовый» («Орел», несертифицированная версия), «Усиленный» («Воронеж») и «Максимальный» («Смоленск»). Режим «Усиленный» имеет все возможности режима «Базовый» и дополняет их, режим «Максимальный» имеет все возможности режима «Усиленный» и также дополняет их.\\n\\nВ режиме «Усиленный» доступны механизмы мандатного контроля целостности и замкнутой программной среды, существенно повышающие защиту ОС от взлома, вирусов, захвата полномочий и т. д. Входящая в режим «Усиленный» подсистема безопасности PARSEC разработана на основе верифицированной формальной модели безопасности управления доступом и информационными потоками (МРОСЛ ДП-модели).\\n\\nВ режиме «Максимальный» доступен полный комплект средств защиты информации, включая мандатное управление доступом для локальной и серверной инфраструктуры.\\n\\nНачиная с режима «Усиленный», интерфейсы средств защиты информации Astra Linux Special Edition существенно сужают поверхность атаки, и формируют основной рубеж обороны от вредоносного внешнего воздействия.\\n\\nМандатный контроль целостности и замкнутая программная среда\\nПод мандатным контролем целостности (ГОСТ Р 59453.1-2021) понимается распределение информации или компонент в системе по некоторым заданным уровням целостности, исходя из которых назначаются права доступа на изменение объекта. Такой подход позволяет внести больше ясности в администрирование и настройку защиты системы. Удобство мандатного контроля целостности достигается путем четкого распределения компонент ОС по уровням целостности, а подсистема безопасности PARSEC обеспечивает защиту высокоцелостных компонент от несанкционированной записи из низкоцелостных компонент. При этом пользователь root в Astra Linux Special Edition работает на минимальном уровне целостности 0, что позволяет сохранить контроль над системой в случае попытки захвата полномочий с использованием типовых атак на ОС семейства Linux.\\n\\nЗамкнутая программная среда позволяет ограничить запуск исполняемых файлов и загрузку исполняемых библиотек только теми, которые подписаны ЭЦП на доверительном ключе, что обеспечивает защиту от загрузки файла или библиотеки без корректной ЭЦП.\\n\\nМандатное управление доступом\\nПод мандатным управлением доступом понимается именно принцип управления доступом, суть которого заключается в распределении информации по заданным уровням (конфиденциальности) и выполнении трех основных условий.\\n\\nПервое условие — чтение данных доступно пользователю или процессу, который обладает уровнем конфиденциальности таким же, как у этих данных, или выше.\\n\\nВторое условие — запись данных доступна процессу, обладающему таким же или меньшим уровнем конфиденциальности по сравнению с данными.\\n\\nТретье условие — действия процессов не приводят к утечке данных с высокого уровня конфиденциальности на низкий.\\n\\nТаким образом, сочетание мандатного контроля целостности, мандатного управления доступом и замкнутой программной среды обеспечивают комплексную защиту системы[36].\\n\\nКонтроль за соблюдением правил мандатного контроля целостности и мандатного управления доступом реализуется посредством монитора обращений PARSEC.\\n\\nЗащита от эксплуатации уязвимостей\\nС 2018 года в состав дистрибутива включается ядро Linux с усиленной самозащитой (hardened) с интеграцией наработок проекта KSPP (Kernel Self Protection Project).\\n\\nТехнологии разработки безопасного ПО и формальная модель управления доступом\\nДля повышения качества верификации научной основы подсистемы безопасности PARSEC — МРОСЛ ДП-модели, описанной на языке формального метода Event-B — она осуществляется дедуктивно с использованием инструментального средства Rodin и по методу проверки моделей (model checking) с применением инструментального средства ProB.\\n\\nДля демонстрации корректности реализации МРОСЛ ДП-модели в программном коде ОС на языке ACSL разработаны спецификации функций подсистемы безопасности PARSEC, которые дедуктивно верифицируются инструментальным средством Frama-C.\\n\\nПрограммный код ОС Astra Linux анализируется с использованием лучших практик разработки безопасного ПО, таких как Secure Software Development Lifecycle (SSDL), для этого применяется статический и динамический анализ с учётом передовых результатов теорий системного программирования, методов верификации, символьных вычислений и искусственного интеллекта. При этом осуществляется приоритизация компонентов ОС на основании их роли в выполнении требований безопасности и обеспечении поверхности атаки с целью адаптировать проводимый анализ в зависимости от этих приоритетов.\\n\\nКроме того, разработчики ОС Astra Linux совместно с Институтом системного программирования им. В. П. Иванникова Российской академии наук (ИСП РАН) принимали участие в создании национальных стандартов ГОСТ Р 59453.1-2021 «Защита информации. Формальная модель управления доступом. Часть 1. Общие положения[37]» и ГОСТ Р 59453.2-2021 «Защита информации. Формальная модель управления доступом. Часть 2. Рекомендации по верификация формальной модели управления доступом[38]», утвержденные Росстандартом.\\n\\nДругие функции\\nОчистка оперативной и внешней памяти и гарантированное удаление файлов: операционная система выполняет очистку неиспользуемых блоков файловой системы непосредственно при их освобождении, используя маскирующие последовательности.\\nМаркировка документов: разработанный механизм маркировки позволяет серверу печати (CUPS) проставлять необходимые учётные данные в выводимых на печать документах. Мандатные атрибуты автоматически связываются с заданием для печати на основе мандатного контекста получаемого сетевого соединения. Вывод на печать документов без маркировки субъектами доступа, работающими в мандатном контексте с грифом выше «несекретно», невозможен.\\nРегистрация событий: расширенная подсистема протоколирования, интегрированная во все компоненты операционной системы и осуществляющая надёжную регистрацию событий с использованием специального сервиса parlogd.\\nМеханизмы защиты информации в графической подсистеме: графическая подсистема включает в себя Х-сервер Xorg, пользовательский рабочий стол Fly, а также ряд программных средств, предназначенных как для пользователей, так и для администраторов системы. Проведена работа по созданию и встраиванию в графическую подсистему необходимых механизмов защиты информации, обеспечивающих выполнение мандатного управления доступом в графических приложениях, запущенных в собственном изолированном окружении.\\nМеханизм контроля замкнутости программной среды: реализован механизм, обеспечивающий проверку неизменности и подлинности загружаемых исполняемых файлов в формате ELF. Проверка производится на основе проверки векторов аутентичности, рассчитанных в соответствии с ГОСТ Р 34.10-2012 и внедряемых в исполняемые файлы в процессе сборки.\\nКонтроль целостности: для решения задач контроля целостности применяется функция хеширования в соответствии с ГОСТ Р 34.11-94.1.\\nРепозитории\\nНачиная с очередного обновления x.7, операционная система Astra Linux Special Edition использует вложенную структуру репозиториев пакетов. В структуру входит основной репозиторий (репозиторий установочного диска, main), базовый репозиторий (base) и расширенный репозиторий (extended).\\n\\nОсновной репозиторий x.7 в целом не отличается от версии 1.6.\\n\\nБазовый репозиторий содержит все пакеты основного, а также пакеты, относящиеся к средствам разработки.\\n\\nРасширенный репозиторий содержит версии пакетов ПО, которых нет в основном и базовом репозиториях. Такое программное обеспечение функционирует в среде Astra Linux, не подвергается доработке для интеграции функций безопасности с КСЗ, может быть несовместимо с пакетами из базового и основного репозитория и не проходит сертификационные испытания.\\n\\nРасширенный репозиторий предоставляет большую функциональность по сравнению с базовым и основным, при этом пакеты расширенного репозитория могут изменять пакеты базового, но не могут изменять пакеты основного.\\n\\nТакже расширенный репозиторий содержит компонент backports, предоставляющий новейшие версии пакетов, которые могут быть несовместимы с пакетами из базового и расширенного репозиториев и компонент astra-ce, предоставляющий пакеты для обеспечения максимальной совместимости со сторонним ПО.\\n\\nИспользование расширенного репозитория позволяет устанавливать и эксплуатировать ПО, изначально созданное для других систем на Linux, разрабатывать свое ПО и переносить Astra Linux на различные аппаратные платформы.\\n\\nОсновные группы пакетов ПО расширенного репозитория представляют собой пакеты, не входящие в состав базового репозитория, пакеты, обновляющие состав базового репозитория, то есть более новые версии пакетов базового репозитория (в случае несовместимости они включаются в состав компонента backports), и пакеты, заменяющие пакеты из состава основного репозитория. Последние объединены в компоненте astra-ce, в состав которого входят: СУБД PostgreSQL, электронная почтовая служба Exim4, пакеты СУБД Mariadb, средства Java openjdk и пакеты комплекта офисных программ LibreOffice.\\n', metadata={'source': './content/astra_wiki.txt'})"
            ]
          },
          "execution_count": 11,
          "metadata": {},
          "output_type": "execute_result"
        }
      ],
      "source": [
        "documents = text.load()\n",
        "documents[0]"
      ]
    },
    {
      "cell_type": "code",
      "execution_count": 12,
      "id": "e99fafb9-046f-4e96-88c3-5b3f107db02a",
      "metadata": {
        "id": "e99fafb9-046f-4e96-88c3-5b3f107db02a"
      },
      "outputs": [],
      "source": [
        "text_splitter = RecursiveCharacterTextSplitter(chunk_size=600, chunk_overlap=200)  # у langchain есть много способов разбить документы на чанки, можете изучить другие и подобрать оптимальный\n",
        "texts = text_splitter.split_documents(documents)"
      ]
    },
    {
      "cell_type": "markdown",
      "id": "cc07e25a-e415-4a1a-91fe-ec9c9702b746",
      "metadata": {
        "id": "cc07e25a-e415-4a1a-91fe-ec9c9702b746"
      },
      "source": [
        "### Вычисляем эмбеддинги для всех фрагментов"
      ]
    },
    {
      "cell_type": "code",
      "execution_count": 13,
      "id": "ad99ff85-9349-48b9-8400-77b4b2f91fae",
      "metadata": {
        "id": "ad99ff85-9349-48b9-8400-77b4b2f91fae"
      },
      "outputs": [],
      "source": [
        "EMBEDDER_PATH = \"intfloat/multilingual-e5-small\"  # путь до модели эмбеддера, на huggingface можете подобрать другой, есть различные статьи по сравнению эмбеддеров"
      ]
    },
    {
      "cell_type": "code",
      "execution_count": 14,
      "id": "3a2dda70-c1cb-4e16-a3a2-507723a394e1",
      "metadata": {
        "colab": {
          "base_uri": "https://localhost:8080/"
        },
        "id": "3a2dda70-c1cb-4e16-a3a2-507723a394e1",
        "outputId": "3c8f57d2-903f-4289-9703-0a69c951c510"
      },
      "outputs": [
        {
          "data": {
            "text/plain": [
              "384"
            ]
          },
          "execution_count": 14,
          "metadata": {},
          "output_type": "execute_result"
        }
      ],
      "source": [
        "embeddings = HuggingFaceEmbeddings(\n",
        "    model_name=EMBEDDER_PATH\n",
        ")\n",
        "\n",
        "sample_vec = embeddings.embed_query(\"Hello, world!\")\n",
        "len(sample_vec)"
      ]
    },
    {
      "cell_type": "markdown",
      "id": "e12d8abe-22f9-4c73-9a77-04e50822f2bf",
      "metadata": {
        "id": "e12d8abe-22f9-4c73-9a77-04e50822f2bf"
      },
      "source": [
        "### Cохраняем эмбеддинги в векторную БД"
      ]
    },
    {
      "cell_type": "code",
      "execution_count": 15,
      "id": "732495c6-439c-412d-b551-cae6d0a1dac9",
      "metadata": {
        "id": "732495c6-439c-412d-b551-cae6d0a1dac9"
      },
      "outputs": [],
      "source": [
        "# создаем хранилище\n",
        "db = FAISS.from_documents(texts, embeddings)  # faiss - одна из наиболее популярных векторных БД, можете заменить на любую другую доступную\n",
        "db.as_retriever()\n",
        "\n",
        "# также можно сохранить хранилище локально\n",
        "db.save_local('faiss_index')"
      ]
    },
    {
      "cell_type": "code",
      "execution_count": 16,
      "id": "8d5974e8-7262-422f-9d51-98aed1605afd",
      "metadata": {
        "colab": {
          "base_uri": "https://localhost:8080/"
        },
        "id": "8d5974e8-7262-422f-9d51-98aed1605afd",
        "outputId": "6e1a58fd-7abf-4745-ca60-40be8048ca85"
      },
      "outputs": [
        {
          "data": {
            "text/plain": [
              "[(Document(page_content='Common Edition — единственная российская ОС, репозиторий которой размещен в открытом доступе международной некоммерческой организации The Linux Foundation;\\nSpecial Edition — сертифицированная ОС со встроенными средствами защиты информации (СЗИ) для стабильных и безопасных ИТ-инфраструктур любого масштаба и бесперебойной работы с данными любой степени конфиденциальности, лицензируется по трем уровням защиты.', metadata={'source': './content/astra_wiki.txt'}),\n",
              "  0.30254507),\n",
              " (Document(page_content='Применение', metadata={'source': './content/astra_wiki.txt'}),\n",
              "  0.32562888),\n",
              " (Document(page_content='Особенности версии Special Edition\\nРежимы защищенности\\nС релиза 2021 года (1.7/4.7) в Astra Linux Special Edition доступны режимы защищенности «Базовый» («Орел», несертифицированная версия), «Усиленный» («Воронеж») и «Максимальный» («Смоленск»). Режим «Усиленный» имеет все возможности режима «Базовый» и дополняет их, режим «Максимальный» имеет все возможности режима «Усиленный» и также дополняет их.', metadata={'source': './content/astra_wiki.txt'}),\n",
              "  0.34284583),\n",
              " (Document(page_content='Основные версии\\n Внешние видеофайлы\\n\\tЛоготип YouTube Универсальная операционная система Astra Linux\\n\\nAstra Linux Special Edition в Национальном центре управления обороной РФ\\nПроизводителем разрабатывается версия Astra Linux Special Edition (специального назначения) и несертифицированная версия Common Edition (общего назначения):', metadata={'source': './content/astra_wiki.txt'}),\n",
              "  0.37647113)]"
            ]
          },
          "execution_count": 16,
          "metadata": {},
          "output_type": "execute_result"
        }
      ],
      "source": [
        "# тестируем ретривер\n",
        "q = \"Special Edition\"  #  запрос, который ищем в векторной базе данных\n",
        "db.similarity_search_with_score(q)  #  результат поиска и значение близости между запросом и документами в БД"
      ]
    },
    {
      "cell_type": "code",
      "execution_count": 17,
      "id": "85ec93b5-cdb5-4f73-bf55-2fa915b5beca",
      "metadata": {
        "colab": {
          "base_uri": "https://localhost:8080/"
        },
        "id": "85ec93b5-cdb5-4f73-bf55-2fa915b5beca",
        "outputId": "3b30efe7-539e-4788-a16c-ebe455b46ca5"
      },
      "outputs": [
        {
          "name": "stdout",
          "output_type": "stream",
          "text": [
            "Common Edition — единственная российская ОС, репозиторий которой размещен в открытом доступе международной некоммерческой организации The Linux Foundation;\n",
            "Special Edition — сертифицированная ОС со встроенными средствами защиты информации (СЗИ) для стабильных и безопасных ИТ-инфраструктур любого масштаба и бесперебойной работы с данными любой степени конфиденциальности, лицензируется по трем уровням защиты.\n",
            "**************************************************\n",
            "Применение\n",
            "**************************************************\n",
            "Особенности версии Special Edition\n",
            "Режимы защищенности\n",
            "С релиза 2021 года (1.7/4.7) в Astra Linux Special Edition доступны режимы защищенности «Базовый» («Орел», несертифицированная версия), «Усиленный» («Воронеж») и «Максимальный» («Смоленск»). Режим «Усиленный» имеет все возможности режима «Базовый» и дополняет их, режим «Максимальный» имеет все возможности режима «Усиленный» и также дополняет их.\n",
            "**************************************************\n",
            "Основные версии\n",
            " Внешние видеофайлы\n",
            "\tЛоготип YouTube Универсальная операционная система Astra Linux\n",
            "\n",
            "Astra Linux Special Edition в Национальном центре управления обороной РФ\n",
            "Производителем разрабатывается версия Astra Linux Special Edition (специального назначения) и несертифицированная версия Common Edition (общего назначения):\n",
            "**************************************************\n",
            "Мандатный контроль целостности и замкнутая программная среда\n",
            "**************************************************\n"
          ]
        }
      ],
      "source": [
        "retriever = db.as_retriever(search_kwargs={\"k\": 5})  # поиск К наиболее похожих документов на запрос\n",
        "res = retriever.get_relevant_documents(q)\n",
        "for x in res:\n",
        "    print(x.page_content)\n",
        "    print(\"*\" * 50)"
      ]
    },
    {
      "cell_type": "markdown",
      "id": "b0a248bf-f4a0-4c94-bfe0-88373059db1a",
      "metadata": {
        "id": "b0a248bf-f4a0-4c94-bfe0-88373059db1a"
      },
      "source": [
        "### Подключаем Большую Языковую Модель"
      ]
    },
    {
      "cell_type": "markdown",
      "id": "lZd0WTXWJy0Y",
      "metadata": {
        "id": "lZd0WTXWJy0Y"
      },
      "source": [
        "Посмотрите какие еще есть GPT модели в открытом доступе с небольшим кол-вом параметров (до 1 млрда, свыше 500 млн вряд ли поместится в collab)\n",
        "\n",
        "Помимо GPT моделей рекомендую рассмотреть архитектуру T5. В рамках кейса Вас будет интересовать способность модели отвечать на вопросы (QA answering). Пример: https://habr.com/ru/articles/581932/"
      ]
    },
    {
      "cell_type": "code",
      "execution_count": 18,
      "id": "c74cebff-89f5-441e-99ac-edbebad883e5",
      "metadata": {
        "id": "c74cebff-89f5-441e-99ac-edbebad883e5"
      },
      "outputs": [],
      "source": [
        "MODEL_NAME = r'ai-forever/rugpt3small_based_on_gpt2'\n",
        "tokenizer = AutoTokenizer.from_pretrained(MODEL_NAME, use_fast=False)  # загружаем токенизатор модели"
      ]
    },
    {
      "cell_type": "code",
      "execution_count": 19,
      "id": "df8c2f8b-5cea-4707-8abc-37a700613712",
      "metadata": {
        "id": "df8c2f8b-5cea-4707-8abc-37a700613712"
      },
      "outputs": [],
      "source": [
        "class CustomLLM(LLM):\n",
        "    model: object\n",
        "    tokenizer: object\n",
        "\n",
        "    @property\n",
        "    def _llm_type(self) -> str:\n",
        "        return \"custom\"\n",
        "\n",
        "    def inference_llama(self, prompt: str):\n",
        "        # Encode the prompt and generate tokens\n",
        "        inputs = self.tokenizer(prompt, return_tensors=\"pt\", return_token_type_ids=False).to(device)\n",
        "        generated_ids = self.model.generate(**inputs, max_new_tokens=1024, num_beams=1, do_sample=False)\n",
        "        outputs = self.tokenizer.batch_decode(generated_ids, skip_special_tokens=True)\n",
        "\n",
        "        return outputs[0]\n",
        "\n",
        "    def _call(\n",
        "        self,\n",
        "        prompt: str,\n",
        "        **kwargs: Any,\n",
        "    ) -> str:\n",
        "\n",
        "        return self.inference_llama(prompt)"
      ]
    },
    {
      "cell_type": "code",
      "execution_count": 20,
      "id": "d514f5ea-f92e-46d1-bfc8-bf5f870ef89f",
      "metadata": {
        "colab": {
          "base_uri": "https://localhost:8080/"
        },
        "id": "d514f5ea-f92e-46d1-bfc8-bf5f870ef89f",
        "outputId": "33ec8f86-26c2-4130-a6c9-63f17559436b"
      },
      "outputs": [
        {
          "data": {
            "text/plain": [
              "GPT2LMHeadModel(\n",
              "  (transformer): GPT2Model(\n",
              "    (wte): Embedding(50264, 768)\n",
              "    (wpe): Embedding(2048, 768)\n",
              "    (drop): Dropout(p=0.1, inplace=False)\n",
              "    (h): ModuleList(\n",
              "      (0-11): 12 x GPT2Block(\n",
              "        (ln_1): LayerNorm((768,), eps=1e-05, elementwise_affine=True)\n",
              "        (attn): GPT2Attention(\n",
              "          (c_attn): Conv1D()\n",
              "          (c_proj): Conv1D()\n",
              "          (attn_dropout): Dropout(p=0.1, inplace=False)\n",
              "          (resid_dropout): Dropout(p=0.1, inplace=False)\n",
              "        )\n",
              "        (ln_2): LayerNorm((768,), eps=1e-05, elementwise_affine=True)\n",
              "        (mlp): GPT2MLP(\n",
              "          (c_fc): Conv1D()\n",
              "          (c_proj): Conv1D()\n",
              "          (act): NewGELUActivation()\n",
              "          (dropout): Dropout(p=0.1, inplace=False)\n",
              "        )\n",
              "      )\n",
              "    )\n",
              "    (ln_f): LayerNorm((768,), eps=1e-05, elementwise_affine=True)\n",
              "  )\n",
              "  (lm_head): Linear(in_features=768, out_features=50264, bias=False)\n",
              ")"
            ]
          },
          "execution_count": 20,
          "metadata": {},
          "output_type": "execute_result"
        }
      ],
      "source": [
        "model = AutoModelForCausalLM.from_pretrained(MODEL_NAME, device_map='auto')  #  загружаем выбранную модель\n",
        "device = torch.device(\"cuda\" if torch.cuda.is_available() else \"cpu\")  # при исползовании GPU скорость работы значительно возрастает. Не рекомендую оставлять сессию с включенным GPU  в бездействии.\n",
        "model.to(device)"
      ]
    },
    {
      "cell_type": "code",
      "execution_count": 21,
      "id": "2f5b9447-1ffc-4fa6-8ade-91233b58dbe1",
      "metadata": {
        "id": "2f5b9447-1ffc-4fa6-8ade-91233b58dbe1"
      },
      "outputs": [],
      "source": [
        "llm = CustomLLM(model=model, tokenizer=tokenizer)"
      ]
    },
    {
      "cell_type": "code",
      "execution_count": 22,
      "id": "e2af4838-479a-45f7-8f61-3c0992075e95",
      "metadata": {
        "colab": {
          "base_uri": "https://localhost:8080/",
          "height": 88
        },
        "id": "e2af4838-479a-45f7-8f61-3c0992075e95",
        "outputId": "af05476f-5681-4eb6-a2fe-dfaaedbe5e2e"
      },
      "outputs": [
        {
          "name": "stderr",
          "output_type": "stream",
          "text": [
            "/home/sinredempti0n/project/.venv/lib/python3.8/site-packages/langchain_core/_api/deprecation.py:117: LangChainDeprecationWarning: The function `__call__` was deprecated in LangChain 0.1.7 and will be removed in 0.2.0. Use invoke instead.\n",
            "  warn_deprecated(\n"
          ]
        },
        {
          "data": {
            "text/plain": [
              "'Как звали Достоевского?\\nНиколай Васильевич Гоголь\\n\\n\\n\\n\\nНиколай Васильевич Гоголь\\n\\nКак звали Достоевского?\\n\\n\\n\\n\\n\\n\\n\\n\\n\\n\\n\\n\\n\\n\\n\\n\\n\\n\\n\\n\\n\\n\\n\\n\\n\\n\\n\\n\\n\\n\\n\\n\\n\\n\\n\\n\\n\\n\\n\\n\\n\\n\\n\\n\\n\\n\\n\\n\\n\\n\\n\\n\\n\\n\\n\\n\\n\\n\\n\\n\\n\\n\\n\\n\\n\\n\\n\\n\\n\\n\\n\\n\\n\\n\\n\\n\\n\\n\\n\\n\\n\\n\\n\\n\\n\\n\\n\\n\\n\\n\\n\\n\\n\\n\\n\\n\\n\\n\\n\\n\\n\\n\\n\\n\\n\\n\\n\\n\\n\\n\\n\\n\\n\\n\\n\\n\\n\\n\\n\\n\\n\\n\\n\\n\\n\\n\\n\\n\\n\\n\\n\\n\\n\\n\\n\\n\\n\\n\\n\\n\\n\\n\\n\\n\\n\\n\\n\\n\\n\\n\\n\\n\\n\\n\\n\\n\\n\\n\\n\\n\\n\\n\\n\\n\\n\\n\\n\\n\\n\\n\\n\\n\\n\\n\\n\\n\\n\\n\\n\\n\\n\\n\\n\\n\\n\\n\\n\\n\\n\\n\\n\\n\\n\\n\\n\\n\\n\\n\\n\\n\\n\\n\\n\\n\\n\\n\\n\\n\\n\\n\\n\\n\\n\\n\\n\\n\\n\\n\\n\\n\\n\\n\\n\\n\\n\\n\\n\\n\\n\\n\\n\\n\\n\\n\\n\\n\\n\\n\\n\\n\\n\\n\\n\\n\\n\\n\\n\\n\\n\\n\\n\\n\\n\\n\\n\\n\\n\\n\\n\\n\\n\\n\\n\\n\\n\\n\\n\\n\\n\\n\\n\\n\\n\\n\\n\\n\\n\\n\\n\\n\\n\\n\\n\\n\\n\\n\\n\\n\\n\\n\\n\\n\\n\\n\\n\\n\\n\\n\\n\\n\\n\\n\\n\\n\\n\\n\\n\\n\\n\\n\\n\\n\\n\\n\\n\\n\\n\\n\\n\\n\\n\\n\\n\\n\\n\\n\\n\\n\\n\\n\\n\\n\\n\\n\\n\\n\\n\\n\\n\\n\\n\\n\\n\\n\\n\\n\\n\\n\\n\\n\\n\\n\\n\\n\\n\\n\\n\\n\\n\\n\\n\\n\\n\\n\\n\\n\\n\\n\\n\\n\\n\\n\\n\\n\\n\\n\\n\\n\\n\\n\\n\\n\\n\\n\\n\\n\\n\\n\\n\\n\\n\\n\\n\\n\\n\\n\\n\\n\\n\\n\\n\\n\\n\\n\\n\\n\\n\\n\\n\\n\\n\\n\\n\\n\\n\\n\\n\\n\\n\\n\\n\\n\\n\\n\\n\\n\\n\\n\\n\\n\\n\\n\\n\\n\\n\\n\\n\\n\\n\\n\\n\\n\\n\\n\\n\\n\\n\\n\\n\\n\\n\\n\\n\\n\\n\\n\\n\\n\\n\\n\\n\\n\\n\\n\\n\\n\\n\\n\\n\\n\\n\\n\\n\\n\\n\\n\\n\\n\\n\\n\\n\\n\\n\\n\\n\\n\\n\\n\\n\\n\\n\\n\\n\\n\\n\\n\\n\\n\\n\\n\\n\\n\\n\\n\\n\\n\\n\\n\\n\\n\\n\\n\\n\\n\\n\\n\\n\\n\\n\\n\\n\\n\\n\\n\\n\\n\\n\\n\\n\\n\\n\\n\\n\\n\\n\\n\\n\\n\\n\\n\\n\\n\\n\\n\\n\\n\\n\\n\\n\\n\\n\\n\\n\\n\\n\\n\\n\\n\\n\\n\\n\\n\\n\\n\\n\\n\\n\\n\\n\\n\\n\\n\\n\\n\\n\\n\\n\\n\\n\\n\\n\\n\\n\\n\\n\\n\\n\\n\\n\\n\\n\\n\\n\\n\\n\\n\\n\\n\\n\\n\\n\\n\\n\\n\\n\\n\\n\\n\\n\\n\\n\\n\\n\\n\\n\\n\\n\\n\\n\\n\\n\\n\\n\\n\\n\\n\\n\\n\\n\\n\\n\\n\\n\\n\\n\\n\\n\\n\\n\\n\\n\\n\\n\\n\\n\\n\\n\\n\\n\\n\\n\\n\\n\\n\\n\\n\\n\\n\\n\\n\\n\\n\\n\\n\\n\\n\\n\\n\\n\\n\\n\\n\\n\\n\\n\\n\\n\\n\\n\\n\\n\\n\\n\\n\\n\\n\\n\\n\\n\\n\\n\\n\\n\\n\\n\\n\\n\\n\\n\\n\\n\\n\\n\\n\\n\\n\\n\\n\\n\\n\\n\\n\\n\\n\\n\\n\\n\\n\\n\\n\\n\\n\\n\\n\\n\\n\\n\\n\\n\\n\\n\\n\\n\\n\\n\\n\\n\\n\\n\\n\\n\\n\\n\\n\\n\\n\\n\\n\\n\\n\\n\\n\\n\\n\\n\\n\\n\\n\\n\\n\\n\\n\\n\\n\\n\\n\\n\\n\\n\\n\\n\\n\\n\\n\\n\\n\\n\\n\\n\\n\\n\\n\\n\\n\\n\\n\\n\\n\\n\\n\\n\\n\\n\\n\\n\\n\\n\\n\\n\\n\\n\\n\\n\\n\\n\\n\\n\\n\\n\\n\\n\\n\\n\\n\\n\\n\\n\\n\\n\\n\\n\\n\\n\\n\\n\\n\\n\\n\\n\\n\\n\\n\\n\\n\\n\\n\\n\\n\\n\\n\\n\\n\\n\\n\\n\\n\\n\\n\\n\\n\\n\\n\\n\\n\\n\\n\\n\\n\\n\\n\\n\\n\\n\\n\\n\\n\\n\\n\\n\\n\\n\\n\\n\\n\\n\\n\\n\\n\\n\\n\\n\\n\\n\\n\\n\\n\\n\\n\\n\\n\\n\\n\\n\\n\\n\\n\\n\\n\\n\\n\\n\\n\\n\\n\\n\\n\\n\\n\\n\\n\\n\\n\\n\\n\\n\\n\\n\\n\\n\\n\\n\\n\\n\\n\\n\\n\\n\\n\\n\\n\\n\\n\\n\\n\\n\\n\\n\\n\\n\\n\\n\\n\\n\\n\\n\\n\\n\\n\\n\\n\\n\\n\\n\\n\\n\\n\\n\\n\\n\\n\\n\\n\\n\\n\\n\\n\\n\\n\\n\\n\\n\\n\\n\\n\\n\\n\\n\\n\\n\\n\\n\\n\\n\\n\\n\\n\\n\\n\\n\\n\\n\\n\\n\\n\\n\\n\\n\\n\\n\\n\\n\\n\\n\\n\\n\\n'"
            ]
          },
          "execution_count": 22,
          "metadata": {},
          "output_type": "execute_result"
        }
      ],
      "source": [
        "llm(\"Как звали Достоевского?\")"
      ]
    },
    {
      "cell_type": "markdown",
      "id": "f2f52f53-0b80-44ec-a298-c764a2f34f36",
      "metadata": {
        "id": "f2f52f53-0b80-44ec-a298-c764a2f34f36"
      },
      "source": [
        "### Собираем Retrieval-Augmented Generation"
      ]
    },
    {
      "cell_type": "markdown",
      "id": "qr5h-OpOKTGw",
      "metadata": {
        "id": "qr5h-OpOKTGw"
      },
      "source": [
        "В ячейке ниже предоставлен промпт для работы с большими языковыми моделями. Мы работали с моделью с 7 млрдами параметров. В Вашем кейсе, может быть, промпт нужно будет немного видоизменить в зависимости от модели, которую вы выберете."
      ]
    },
    {
      "cell_type": "code",
      "execution_count": 23,
      "id": "9464adaa-6aa3-4afd-abda-5e7a9b6b2c5c",
      "metadata": {
        "id": "9464adaa-6aa3-4afd-abda-5e7a9b6b2c5c"
      },
      "outputs": [],
      "source": [
        "# Промпт для обработки документов\n",
        "document_prompt = langchain.prompts.PromptTemplate(\n",
        "    input_variables=[\"page_content\"], template=\"{page_content}\"\n",
        ")\n",
        "\n",
        "# Промпт для языковой модели\n",
        "document_variable_name = \"context\"\n",
        "stuff_prompt_override = \"\"\"\n",
        "Текст:\n",
        "-----\n",
        "{context}\n",
        "-----\n",
        "\n",
        "Пожалуйста, посмотри на текст выше и ответь на вопрос, используя информацию из этого текста.\n",
        "\n",
        "Вопрос:\n",
        "{query}\n",
        "\n",
        "\"\"\"\n",
        "\n",
        "prompt = prompts.PromptTemplate(\n",
        "    template=stuff_prompt_override, input_variables=[\"context\", \"query\"]\n",
        ")\n",
        "\n",
        "# Создаём цепочку\n",
        "llm_chain = chains.LLMChain(llm=llm, prompt=prompt)\n",
        "chain = chains.StuffDocumentsChain(\n",
        "    llm_chain=llm_chain,\n",
        "    document_prompt=document_prompt,\n",
        "    document_variable_name=document_variable_name,\n",
        ")"
      ]
    },
    {
      "cell_type": "code",
      "execution_count": 24,
      "id": "63d3bf13-90d8-4842-aeea-6fab75e99b81",
      "metadata": {
        "id": "63d3bf13-90d8-4842-aeea-6fab75e99b81"
      },
      "outputs": [],
      "source": [
        "QUESTION = \"Что такое Special Edition?\"  # Вопрос, на который мы хотим получить ответ\n",
        "NUMBER_OF_DOCS_TO_RETRIEVE = 5  # кол-во документов, которые мы хотим достать из векторной БД для ответа на вопрос"
      ]
    },
    {
      "cell_type": "code",
      "execution_count": 25,
      "id": "2d21edf8-5cb6-4d0a-8d8d-396129d97afd",
      "metadata": {
        "colab": {
          "base_uri": "https://localhost:8080/"
        },
        "id": "2d21edf8-5cb6-4d0a-8d8d-396129d97afd",
        "outputId": "9e950aa1-5dff-405e-a408-0270448040d1"
      },
      "outputs": [
        {
          "name": "stdout",
          "output_type": "stream",
          "text": [
            "Что такое Special Edition?\n",
            "\n",
            "— Это когда ты читаешь книгу, а потом смотришь фильм.\n",
            "\n",
            "— А что такое Special Edition?\n",
            "\n",
            "— Это когда ты читаешь книгу, а потом смотришь фильм.\n",
            "\n",
            "— А что такое Special Edition?\n",
            "\n",
            "— Это когда ты читаешь книгу, а потом смотришь фильм.\n",
            "\n",
            "— А что такое Special Edition?\n",
            "\n",
            "— Это когда ты читаешь книгу, а потом смотришь фильм.\n",
            "\n",
            "— А что такое Special Edition?\n",
            "\n",
            "— Это когда ты читаешь книгу, а потом смотришь фильм.\n",
            "\n",
            "— А что такое Special Edition?\n",
            "\n",
            "— Это когда ты читаешь книгу, а потом смотришь фильм.\n",
            "\n",
            "— А что такое Special Edition?\n",
            "\n",
            "— Это когда ты читаешь книгу, а потом смотришь фильм.\n",
            "\n",
            "— А что такое Special Edition?\n",
            "\n",
            "— Это когда ты читаешь книгу, а потом смотришь фильм.\n",
            "\n",
            "— А что такое Special Edition?\n",
            "\n",
            "— Это когда ты читаешь книгу, а потом смотришь фильм.\n",
            "\n",
            "— А что такое Special Edition?\n",
            "\n",
            "— Это когда ты читаешь книгу, а потом смотришь фильм.\n",
            "\n",
            "— А что такое Special Edition?\n",
            "\n",
            "— Это когда ты читаешь книгу, а потом смотришь фильм.\n",
            "\n",
            "— А что такое Special Edition?\n",
            "\n",
            "— Это когда ты читаешь книгу, а потом смотришь фильм.\n",
            "\n",
            "— А что такое Special Edition?\n",
            "\n",
            "— Это когда ты читаешь книгу, а потом смотришь фильм.\n",
            "\n",
            "— А что такое Special Edition?\n",
            "\n",
            "— Это когда ты читаешь книгу, а потом смотришь фильм.\n",
            "\n",
            "— А что такое Special Edition?\n",
            "\n",
            "— Это когда ты читаешь книгу, а потом смотришь фильм.\n",
            "\n",
            "— А что такое Special Edition?\n",
            "\n",
            "— Это когда ты читаешь книгу, а потом смотришь фильм.\n",
            "\n",
            "— А что такое Special Edition?\n",
            "\n",
            "— Это когда ты читаешь книгу, а потом смотришь фильм.\n",
            "\n",
            "— А что такое Special Edition?\n",
            "\n",
            "— Это когда ты читаешь книгу, а потом смотришь фильм.\n",
            "\n",
            "— А что такое Special Edition?\n",
            "\n",
            "— Это когда ты читаешь книгу, а потом смотришь фильм.\n",
            "\n",
            "— А что такое Special Edition?\n",
            "\n",
            "— Это когда ты читаешь книгу, а потом смотришь фильм.\n",
            "\n",
            "— А что такое Special Edition?\n",
            "\n",
            "— Это когда ты читаешь книгу, а потом смотришь фильм.\n",
            "\n",
            "— А что такое Special Edition?\n",
            "\n",
            "— Это когда ты читаешь книгу, а потом смотришь фильм.\n",
            "\n",
            "— А что такое Special Edition?\n",
            "\n",
            "— Это когда ты читаешь книгу, а потом смотришь фильм.\n",
            "\n",
            "— А что такое Special Edition?\n",
            "\n",
            "— Это когда ты читаешь книгу, а потом смотришь фильм.\n",
            "\n",
            "— А что такое Special Edition?\n",
            "\n",
            "— Это когда ты читаешь книгу, а потом смотришь фильм.\n",
            "\n",
            "— А что такое Special Edition?\n",
            "\n",
            "— Это когда ты читаешь книгу, а потом смотришь фильм.\n",
            "\n",
            "— А что такое Special Edition?\n",
            "\n",
            "— Это когда ты читаешь книгу, а потом смотришь фильм.\n",
            "\n",
            "— А что такое Special Edition?\n",
            "\n",
            "— Это когда ты читаешь книгу, а потом смотришь фильм.\n",
            "\n",
            "— А что такое Special Edition?\n",
            "\n",
            "— Это когда ты читаешь книгу, а потом смотришь фильм.\n",
            "\n",
            "— А что такое Special Edition?\n",
            "\n",
            "— Это когда ты читаешь книгу, а потом смотришь фильм.\n",
            "\n",
            "— А что такое Special Edition?\n",
            "\n",
            "— Это когда ты читаешь книгу, а потом смотришь фильм.\n",
            "\n",
            "— А что такое Special Edition?\n",
            "\n",
            "— Это когда ты читаешь книгу, а потом смотришь фильм.\n",
            "\n",
            "— А что такое Special Edition?\n",
            "\n",
            "— Это когда ты читаешь книгу, а потом смотришь фильм.\n",
            "\n",
            "— А что такое Special Edition?\n",
            "\n",
            "— Это когда ты читаешь книгу, а потом смотришь фильм.\n",
            "\n",
            "— А что такое Special Edition?\n",
            "\n",
            "— Это когда ты читаешь книгу, а потом смотришь фильм.\n",
            "\n",
            "— А что такое Special Edition?\n",
            "\n",
            "— Это когда ты читаешь книгу, а потом смотришь фильм.\n",
            "\n",
            "— А что такое Special Edition?\n",
            "\n",
            "— Это когда ты читаешь книгу, а потом смотришь фильм.\n",
            "\n",
            "— А что такое Special Edition?\n",
            "\n",
            "— Это когда ты читаешь книгу, а потом смотришь фильм.\n",
            "\n",
            "— А что такое Special Ed\n"
          ]
        }
      ],
      "source": [
        "print(llm(QUESTION))  # ответ модели без использования RAG (без контекста из базы знаний)"
      ]
    },
    {
      "cell_type": "code",
      "execution_count": 26,
      "id": "a342c181-5a8d-4870-a799-957284445555",
      "metadata": {
        "id": "a342c181-5a8d-4870-a799-957284445555"
      },
      "outputs": [],
      "source": [
        "retriever = db.as_retriever(search_kwargs={\"k\": NUMBER_OF_DOCS_TO_RETRIEVE})"
      ]
    },
    {
      "cell_type": "code",
      "execution_count": 27,
      "id": "ca64ff37-5d0c-4edf-a270-940489aa7f56",
      "metadata": {
        "id": "ca64ff37-5d0c-4edf-a270-940489aa7f56"
      },
      "outputs": [],
      "source": [
        "reorderer = LongContextReorder()\n",
        "\n",
        "\n",
        "def answer(query, reorder=True, print_results=False):\n",
        "    results = retriever.get_relevant_documents(query)\n",
        "    if print_results:\n",
        "        for x in results:\n",
        "            print(f\"{x.page_content}\\n--------\")\n",
        "    if reorder:\n",
        "        results = reorderer.transform_documents(results)\n",
        "\n",
        "    generated_text = chain.run(input_documents=results, query=query).split(\"Ответ:\")[-1]\n",
        "    return generated_text"
      ]
    },
    {
      "cell_type": "code",
      "execution_count": 28,
      "id": "49af5b92-3426-40ed-9adf-3e3966fd21a3",
      "metadata": {
        "colab": {
          "base_uri": "https://localhost:8080/"
        },
        "id": "49af5b92-3426-40ed-9adf-3e3966fd21a3",
        "outputId": "92ad9e3f-ff4f-4c65-bdee-6dd9780d2b79"
      },
      "outputs": [
        {
          "name": "stderr",
          "output_type": "stream",
          "text": [
            "/home/sinredempti0n/project/.venv/lib/python3.8/site-packages/langchain_core/_api/deprecation.py:117: LangChainDeprecationWarning: The function `run` was deprecated in LangChain 0.1.0 and will be removed in 0.2.0. Use invoke instead.\n",
            "  warn_deprecated(\n"
          ]
        },
        {
          "name": "stdout",
          "output_type": "stream",
          "text": [
            "\n",
            "Это специальная версия, которая предназначена для использования в системах защиты информации, в том числе в системах управления доступом, в системах управления доступом, в системах управления доступом, в системах управления доступом, в системах управления доступом, в системах управления доступом, в системах управления доступом, в системах управления доступом, в системах управления доступом, в системах управления доступом, в системах управления доступом, в системах управления доступом, в системах управления доступом, в системах управления доступом, в системах управления доступом, в системах управления доступом, в системах управления доступом, в системах управления доступом, в системах управления доступом, в системах управления доступом, в системах управления доступом, в системах управления доступом, в системах управления доступом, в системах управления доступом, в системах управления доступом, в системах управления доступом, в системах управления доступом, в системах управления доступом, в системах управления доступом, в системах управления доступом, в системах управления доступом, в системах управления доступом, в системах управления доступом, в системах управления доступом, в системах управления доступом, в системах управления доступом, в системах управления доступом, в системах управления доступом, в системах управления доступом, в системах управления доступом, в системах управления доступом, в системах управления доступом, в системах управления доступом, в системах управления доступом, в системах управления доступом, в системах управления доступом, в системах управления доступом, в системах управления доступом, в системах управления доступом, в системах управления доступом, в системах управления доступом, в системах управления доступом, в системах управления доступом, в системах управления доступом, в системах управления доступом, в системах управления доступом, в системах управления доступом, в системах управления доступом, в системах управления доступом, в системах управления доступом, в системах управления доступом, в системах управления доступом, в системах управления доступом, в системах управления доступом, в системах управления доступом, в системах управления доступом, в системах управления доступом, в системах управления доступом, в системах управления доступом, в системах управления доступом, в системах управления доступом, в системах управления доступом, в системах управления доступом, в системах управления доступом, в системах управления доступом, в системах управления доступом, в системах управления доступом, в системах управления доступом, в системах управления доступом, в системах управления доступом, в системах управления доступом, в системах управления доступом, в системах управления доступом, в системах управления доступом, в системах управления доступом, в системах управления доступом, в системах управления доступом, в системах управления доступом, в системах управления доступом, в системах управления доступом, в системах управления доступом, в системах управления доступом, в системах управления доступом, в системах управления доступом, в системах управления доступом, в системах управления доступом, в системах управления доступом, в системах управления доступом, в системах управления доступом, в системах управления доступом, в системах управления доступом, в системах управления доступом, в системах управления доступом, в системах управления доступом, в системах управления доступом, в системах управления доступом, в системах управления доступом, в системах управления доступом, в системах управления доступом, в системах управления доступом, в системах управления доступом, в системах управления доступом, в системах управления доступом, в системах управления доступом, в системах управления доступом, в системах управления доступом, в системах управления доступом, в системах управления доступом, в системах управления доступом, в системах управления доступом, в системах управления доступом, в системах управления доступом, в системах управления доступом, в системах управления доступом, в системах управления доступом, в системах управления доступом, в системах управления доступом, в системах управления доступом, в системах управления доступом, в системах управления доступом, в системах управления доступом, в системах управления доступом, в системах управления доступом, в системах управления доступом, в системах управления доступом, в системах управления доступом, в системах управления доступом, в системах управления доступом, в системах управления доступом, в системах управления доступом, в системах управления доступом, в системах управления доступом, в системах управления доступом, в системах управления доступом, в системах управления доступом, в системах управления доступом, в системах управления доступом, в системах управления доступом, в системах управления доступом, в системах управления доступом, в системах управления доступом, в системах управления доступом, в системах управления доступом, в системах управления доступом, в системах управления доступом, в системах управления доступом, в системах управления доступом, в системах управления доступом, в системах управления доступом, в системах управления доступом, в системах управления доступом, в системах управления доступом, в системах управления доступом, в системах управления доступом, в системах управления доступом, в системах управления доступом, в системах управления доступом, в системах управления\n"
          ]
        }
      ],
      "source": [
        "gen_text = answer(QUESTION, print_results=False)  # Ответ модели с учетом используемого контекста. Обратите внимание на неспособность модели хорошо отвечать на вопрос. В этом поможет дообучение модели на предоставленных ранее данных (пары вопрос-ответ).\n",
        "print(str(gen_text))"
      ]
    }
  ],
  "metadata": {
    "colab": {
      "provenance": []
    },
    "kernelspec": {
      "display_name": "Python 3",
      "language": "python",
      "name": "python3"
    },
    "language_info": {
      "codemirror_mode": {
        "name": "ipython",
        "version": 3
      },
      "file_extension": ".py",
      "mimetype": "text/x-python",
      "name": "python",
      "nbconvert_exporter": "python",
      "pygments_lexer": "ipython3",
      "version": "3.8.18"
    }
  },
  "nbformat": 4,
  "nbformat_minor": 5
}
